{
  "nbformat": 4,
  "nbformat_minor": 0,
  "metadata": {
    "colab": {
      "name": "ECAPI.ipynb",
      "provenance": [],
      "toc_visible": true,
      "authorship_tag": "ABX9TyPpDk9rxTisyiWj7Zxeo5xB",
      "include_colab_link": true
    },
    "kernelspec": {
      "name": "python3",
      "display_name": "Python 3"
    }
  },
  "cells": [
    {
      "cell_type": "markdown",
      "metadata": {
        "id": "view-in-github",
        "colab_type": "text"
      },
      "source": [
        "<a href=\"https://colab.research.google.com/github/coolhva/ecapi/blob/google-colab/ECAPI.ipynb\" target=\"_parent\"><img src=\"https://colab.research.google.com/assets/colab-badge.svg\" alt=\"Open In Colab\"/></a>"
      ]
    },
    {
      "cell_type": "markdown",
      "metadata": {
        "id": "NSLvw8Q0_-Dx"
      },
      "source": [
        "# OS Update"
      ]
    },
    {
      "cell_type": "code",
      "metadata": {
        "colab": {
          "base_uri": "https://localhost:8080/"
        },
        "id": "KHID2ijX67dC",
        "outputId": "a46e6b5f-d659-4f0a-d363-4e178d358d49"
      },
      "source": [
        "! sudo apt-get update\n",
        "! sudo apt-get install -y python3.8 python3.8-venv\n",
        "! update-alternatives --install /usr/local/bin/python3 python3 /usr/bin/python3.6 1\n",
        "! update-alternatives --install /usr/local/bin/python3 python3 /usr/bin/python3.8 2\n",
        "! python --version"
      ],
      "execution_count": 1,
      "outputs": [
        {
          "output_type": "stream",
          "text": [
            "\r0% [Working]\r            \rGet:1 http://security.ubuntu.com/ubuntu bionic-security InRelease [88.7 kB]\n",
            "\r0% [Connecting to archive.ubuntu.com] [1 InRelease 0 B/88.7 kB 0%] [Connected t\r0% [Connecting to archive.ubuntu.com (91.189.88.142)] [Waiting for headers] [Wa\r0% [1 InRelease gpgv 88.7 kB] [Connecting to archive.ubuntu.com (91.189.88.142)\r                                                                               \rIgn:2 https://developer.download.nvidia.com/compute/cuda/repos/ubuntu1804/x86_64  InRelease\n",
            "\r0% [1 InRelease gpgv 88.7 kB] [Connecting to archive.ubuntu.com (91.189.88.142)\r                                                                               \rGet:3 https://cloud.r-project.org/bin/linux/ubuntu bionic-cran40/ InRelease [3,626 B]\n",
            "\r0% [1 InRelease gpgv 88.7 kB] [Connecting to archive.ubuntu.com (91.189.88.142)\r0% [1 InRelease gpgv 88.7 kB] [Connecting to archive.ubuntu.com (91.189.88.142)\r                                                                               \rGet:4 http://ppa.launchpad.net/c2d4u.team/c2d4u4.0+/ubuntu bionic InRelease [15.9 kB]\n",
            "\r0% [1 InRelease gpgv 88.7 kB] [Waiting for headers] [4 InRelease 14.2 kB/15.9 k\r                                                                               \rIgn:5 https://developer.download.nvidia.com/compute/machine-learning/repos/ubuntu1804/x86_64  InRelease\n",
            "\r0% [1 InRelease gpgv 88.7 kB] [Waiting for headers] [4 InRelease 14.2 kB/15.9 k\r                                                                               \rHit:6 https://developer.download.nvidia.com/compute/cuda/repos/ubuntu1804/x86_64  Release\n",
            "Hit:7 https://developer.download.nvidia.com/compute/machine-learning/repos/ubuntu1804/x86_64  Release\n",
            "Hit:8 http://archive.ubuntu.com/ubuntu bionic InRelease\n",
            "Get:9 http://security.ubuntu.com/ubuntu bionic-security/universe amd64 Packages [1,391 kB]\n",
            "Get:10 http://archive.ubuntu.com/ubuntu bionic-updates InRelease [88.7 kB]\n",
            "Hit:11 http://ppa.launchpad.net/cran/libgit2/ubuntu bionic InRelease\n",
            "Get:12 http://security.ubuntu.com/ubuntu bionic-security/main amd64 Packages [1,929 kB]\n",
            "Hit:14 http://ppa.launchpad.net/graphics-drivers/ppa/ubuntu bionic InRelease\n",
            "Get:15 http://archive.ubuntu.com/ubuntu bionic-backports InRelease [74.6 kB]\n",
            "Get:17 http://ppa.launchpad.net/c2d4u.team/c2d4u4.0+/ubuntu bionic/main Sources [1,733 kB]\n",
            "Get:18 http://archive.ubuntu.com/ubuntu bionic-updates/main amd64 Packages [2,360 kB]\n",
            "Get:19 http://archive.ubuntu.com/ubuntu bionic-updates/universe amd64 Packages [2,163 kB]\n",
            "Get:20 http://ppa.launchpad.net/c2d4u.team/c2d4u4.0+/ubuntu bionic/main amd64 Packages [887 kB]\n",
            "Fetched 10.7 MB in 2s (4,427 kB/s)\n",
            "Reading package lists... Done\n",
            "Reading package lists... Done\n",
            "Building dependency tree       \n",
            "Reading state information... Done\n",
            "The following additional packages will be installed:\n",
            "  libpython3.8-minimal libpython3.8-stdlib python-pip-whl python3.8-minimal\n",
            "Suggested packages:\n",
            "  python3.8-doc binfmt-support\n",
            "The following NEW packages will be installed:\n",
            "  libpython3.8-minimal libpython3.8-stdlib python-pip-whl python3.8\n",
            "  python3.8-minimal python3.8-venv\n",
            "0 upgraded, 6 newly installed, 0 to remove and 31 not upgraded.\n",
            "Need to get 6,209 kB of archives.\n",
            "After this operation, 20.3 MB of additional disk space will be used.\n",
            "Get:1 http://archive.ubuntu.com/ubuntu bionic-updates/universe amd64 libpython3.8-minimal amd64 3.8.0-3~18.04 [704 kB]\n",
            "Get:2 http://archive.ubuntu.com/ubuntu bionic-updates/universe amd64 python3.8-minimal amd64 3.8.0-3~18.04 [1,816 kB]\n",
            "Get:3 http://archive.ubuntu.com/ubuntu bionic-updates/universe amd64 libpython3.8-stdlib amd64 3.8.0-3~18.04 [1,677 kB]\n",
            "Get:4 http://archive.ubuntu.com/ubuntu bionic-updates/universe amd64 python-pip-whl all 9.0.1-2.3~ubuntu1.18.04.4 [1,653 kB]\n",
            "Get:5 http://archive.ubuntu.com/ubuntu bionic-updates/universe amd64 python3.8 amd64 3.8.0-3~18.04 [355 kB]\n",
            "Get:6 http://archive.ubuntu.com/ubuntu bionic-updates/universe amd64 python3.8-venv amd64 3.8.0-3~18.04 [5,292 B]\n",
            "Fetched 6,209 kB in 1s (5,754 kB/s)\n",
            "debconf: unable to initialize frontend: Dialog\n",
            "debconf: (No usable dialog-like program is installed, so the dialog based frontend cannot be used. at /usr/share/perl5/Debconf/FrontEnd/Dialog.pm line 76, <> line 6.)\n",
            "debconf: falling back to frontend: Readline\n",
            "debconf: unable to initialize frontend: Readline\n",
            "debconf: (This frontend requires a controlling tty.)\n",
            "debconf: falling back to frontend: Teletype\n",
            "dpkg-preconfigure: unable to re-open stdin: \n",
            "Selecting previously unselected package libpython3.8-minimal:amd64.\n",
            "(Reading database ... 146442 files and directories currently installed.)\n",
            "Preparing to unpack .../0-libpython3.8-minimal_3.8.0-3~18.04_amd64.deb ...\n",
            "Unpacking libpython3.8-minimal:amd64 (3.8.0-3~18.04) ...\n",
            "Selecting previously unselected package python3.8-minimal.\n",
            "Preparing to unpack .../1-python3.8-minimal_3.8.0-3~18.04_amd64.deb ...\n",
            "Unpacking python3.8-minimal (3.8.0-3~18.04) ...\n",
            "Selecting previously unselected package libpython3.8-stdlib:amd64.\n",
            "Preparing to unpack .../2-libpython3.8-stdlib_3.8.0-3~18.04_amd64.deb ...\n",
            "Unpacking libpython3.8-stdlib:amd64 (3.8.0-3~18.04) ...\n",
            "Selecting previously unselected package python-pip-whl.\n",
            "Preparing to unpack .../3-python-pip-whl_9.0.1-2.3~ubuntu1.18.04.4_all.deb ...\n",
            "Unpacking python-pip-whl (9.0.1-2.3~ubuntu1.18.04.4) ...\n",
            "Selecting previously unselected package python3.8.\n",
            "Preparing to unpack .../4-python3.8_3.8.0-3~18.04_amd64.deb ...\n",
            "Unpacking python3.8 (3.8.0-3~18.04) ...\n",
            "Selecting previously unselected package python3.8-venv.\n",
            "Preparing to unpack .../5-python3.8-venv_3.8.0-3~18.04_amd64.deb ...\n",
            "Unpacking python3.8-venv (3.8.0-3~18.04) ...\n",
            "Setting up python-pip-whl (9.0.1-2.3~ubuntu1.18.04.4) ...\n",
            "Setting up libpython3.8-minimal:amd64 (3.8.0-3~18.04) ...\n",
            "Setting up python3.8-minimal (3.8.0-3~18.04) ...\n",
            "Setting up libpython3.8-stdlib:amd64 (3.8.0-3~18.04) ...\n",
            "Setting up python3.8 (3.8.0-3~18.04) ...\n",
            "Setting up python3.8-venv (3.8.0-3~18.04) ...\n",
            "Processing triggers for mime-support (3.60ubuntu1) ...\n",
            "Processing triggers for man-db (2.8.3-2ubuntu0.1) ...\n",
            "update-alternatives: using /usr/bin/python3.6 to provide /usr/local/bin/python3 (python3) in auto mode\n",
            "update-alternatives: using /usr/bin/python3.8 to provide /usr/local/bin/python3 (python3) in auto mode\n",
            "Python 3.8.0\n"
          ],
          "name": "stdout"
        }
      ]
    },
    {
      "cell_type": "code",
      "metadata": {
        "colab": {
          "base_uri": "https://localhost:8080/"
        },
        "id": "jvKIUCrv76rJ",
        "outputId": "64be3618-8cc8-4f2f-fb0f-233f6fb01828"
      },
      "source": [
        "! sudo apt install python3-pip\n",
        "! sudo apt-get install \n",
        "! python -m pip install --upgrade pip\n",
        "! pip --version"
      ],
      "execution_count": 2,
      "outputs": [
        {
          "output_type": "stream",
          "text": [
            "Reading package lists... Done\n",
            "Building dependency tree       \n",
            "Reading state information... Done\n",
            "The following additional packages will be installed:\n",
            "  python3-asn1crypto python3-cffi-backend python3-crypto python3-cryptography\n",
            "  python3-idna python3-keyring python3-keyrings.alt python3-pkg-resources\n",
            "  python3-secretstorage python3-setuptools python3-six python3-wheel\n",
            "  python3-xdg\n",
            "Suggested packages:\n",
            "  python-crypto-doc python-cryptography-doc python3-cryptography-vectors\n",
            "  gnome-keyring libkf5wallet-bin gir1.2-gnomekeyring-1.0\n",
            "  python-secretstorage-doc python-setuptools-doc\n",
            "The following NEW packages will be installed:\n",
            "  python3-asn1crypto python3-cffi-backend python3-crypto python3-cryptography\n",
            "  python3-idna python3-keyring python3-keyrings.alt python3-pip\n",
            "  python3-pkg-resources python3-secretstorage python3-setuptools python3-six\n",
            "  python3-wheel python3-xdg\n",
            "0 upgraded, 14 newly installed, 0 to remove and 31 not upgraded.\n",
            "Need to get 1,229 kB of archives.\n",
            "After this operation, 7,029 kB of additional disk space will be used.\n",
            "Get:1 http://archive.ubuntu.com/ubuntu bionic/main amd64 python3-asn1crypto all 0.24.0-1 [72.8 kB]\n",
            "Get:2 http://archive.ubuntu.com/ubuntu bionic/main amd64 python3-cffi-backend amd64 1.11.5-1 [64.6 kB]\n",
            "Get:3 http://archive.ubuntu.com/ubuntu bionic/main amd64 python3-crypto amd64 2.6.1-8ubuntu2 [244 kB]\n",
            "Get:4 http://archive.ubuntu.com/ubuntu bionic/main amd64 python3-idna all 2.6-1 [32.5 kB]\n",
            "Get:5 http://archive.ubuntu.com/ubuntu bionic/main amd64 python3-six all 1.11.0-2 [11.4 kB]\n",
            "Get:6 http://archive.ubuntu.com/ubuntu bionic-updates/main amd64 python3-cryptography amd64 2.1.4-1ubuntu1.4 [220 kB]\n",
            "Get:7 http://archive.ubuntu.com/ubuntu bionic/main amd64 python3-secretstorage all 2.3.1-2 [12.1 kB]\n",
            "Get:8 http://archive.ubuntu.com/ubuntu bionic/main amd64 python3-keyring all 10.6.0-1 [26.7 kB]\n",
            "Get:9 http://archive.ubuntu.com/ubuntu bionic/main amd64 python3-keyrings.alt all 3.0-1 [16.6 kB]\n",
            "Get:10 http://archive.ubuntu.com/ubuntu bionic-updates/universe amd64 python3-pip all 9.0.1-2.3~ubuntu1.18.04.4 [114 kB]\n",
            "Get:11 http://archive.ubuntu.com/ubuntu bionic/main amd64 python3-pkg-resources all 39.0.1-2 [98.8 kB]\n",
            "Get:12 http://archive.ubuntu.com/ubuntu bionic/main amd64 python3-setuptools all 39.0.1-2 [248 kB]\n",
            "Get:13 http://archive.ubuntu.com/ubuntu bionic/universe amd64 python3-wheel all 0.30.0-0.2 [36.5 kB]\n",
            "Get:14 http://archive.ubuntu.com/ubuntu bionic-updates/main amd64 python3-xdg all 0.25-4ubuntu1.1 [31.3 kB]\n",
            "Fetched 1,229 kB in 1s (1,444 kB/s)\n",
            "debconf: unable to initialize frontend: Dialog\n",
            "debconf: (No usable dialog-like program is installed, so the dialog based frontend cannot be used. at /usr/share/perl5/Debconf/FrontEnd/Dialog.pm line 76, <> line 14.)\n",
            "debconf: falling back to frontend: Readline\n",
            "debconf: unable to initialize frontend: Readline\n",
            "debconf: (This frontend requires a controlling tty.)\n",
            "debconf: falling back to frontend: Teletype\n",
            "dpkg-preconfigure: unable to re-open stdin: \n",
            "Selecting previously unselected package python3-asn1crypto.\n",
            "(Reading database ... 147094 files and directories currently installed.)\n",
            "Preparing to unpack .../00-python3-asn1crypto_0.24.0-1_all.deb ...\n",
            "Unpacking python3-asn1crypto (0.24.0-1) ...\n",
            "Selecting previously unselected package python3-cffi-backend.\n",
            "Preparing to unpack .../01-python3-cffi-backend_1.11.5-1_amd64.deb ...\n",
            "Unpacking python3-cffi-backend (1.11.5-1) ...\n",
            "Selecting previously unselected package python3-crypto.\n",
            "Preparing to unpack .../02-python3-crypto_2.6.1-8ubuntu2_amd64.deb ...\n",
            "Unpacking python3-crypto (2.6.1-8ubuntu2) ...\n",
            "Selecting previously unselected package python3-idna.\n",
            "Preparing to unpack .../03-python3-idna_2.6-1_all.deb ...\n",
            "Unpacking python3-idna (2.6-1) ...\n",
            "Selecting previously unselected package python3-six.\n",
            "Preparing to unpack .../04-python3-six_1.11.0-2_all.deb ...\n",
            "Unpacking python3-six (1.11.0-2) ...\n",
            "Selecting previously unselected package python3-cryptography.\n",
            "Preparing to unpack .../05-python3-cryptography_2.1.4-1ubuntu1.4_amd64.deb ...\n",
            "Unpacking python3-cryptography (2.1.4-1ubuntu1.4) ...\n",
            "Selecting previously unselected package python3-secretstorage.\n",
            "Preparing to unpack .../06-python3-secretstorage_2.3.1-2_all.deb ...\n",
            "Unpacking python3-secretstorage (2.3.1-2) ...\n",
            "Selecting previously unselected package python3-keyring.\n",
            "Preparing to unpack .../07-python3-keyring_10.6.0-1_all.deb ...\n",
            "Unpacking python3-keyring (10.6.0-1) ...\n",
            "Selecting previously unselected package python3-keyrings.alt.\n",
            "Preparing to unpack .../08-python3-keyrings.alt_3.0-1_all.deb ...\n",
            "Unpacking python3-keyrings.alt (3.0-1) ...\n",
            "Selecting previously unselected package python3-pip.\n",
            "Preparing to unpack .../09-python3-pip_9.0.1-2.3~ubuntu1.18.04.4_all.deb ...\n",
            "Unpacking python3-pip (9.0.1-2.3~ubuntu1.18.04.4) ...\n",
            "Selecting previously unselected package python3-pkg-resources.\n",
            "Preparing to unpack .../10-python3-pkg-resources_39.0.1-2_all.deb ...\n",
            "Unpacking python3-pkg-resources (39.0.1-2) ...\n",
            "Selecting previously unselected package python3-setuptools.\n",
            "Preparing to unpack .../11-python3-setuptools_39.0.1-2_all.deb ...\n",
            "Unpacking python3-setuptools (39.0.1-2) ...\n",
            "Selecting previously unselected package python3-wheel.\n",
            "Preparing to unpack .../12-python3-wheel_0.30.0-0.2_all.deb ...\n",
            "Unpacking python3-wheel (0.30.0-0.2) ...\n",
            "Selecting previously unselected package python3-xdg.\n",
            "Preparing to unpack .../13-python3-xdg_0.25-4ubuntu1.1_all.deb ...\n",
            "Unpacking python3-xdg (0.25-4ubuntu1.1) ...\n",
            "Setting up python3-cffi-backend (1.11.5-1) ...\n",
            "Setting up python3-crypto (2.6.1-8ubuntu2) ...\n",
            "Setting up python3-idna (2.6-1) ...\n",
            "Setting up python3-xdg (0.25-4ubuntu1.1) ...\n",
            "Setting up python3-six (1.11.0-2) ...\n",
            "Setting up python3-wheel (0.30.0-0.2) ...\n",
            "Setting up python3-pkg-resources (39.0.1-2) ...\n",
            "Setting up python3-asn1crypto (0.24.0-1) ...\n",
            "Setting up python3-pip (9.0.1-2.3~ubuntu1.18.04.4) ...\n",
            "Setting up python3-setuptools (39.0.1-2) ...\n",
            "Setting up python3-cryptography (2.1.4-1ubuntu1.4) ...\n",
            "Setting up python3-keyrings.alt (3.0-1) ...\n",
            "Setting up python3-secretstorage (2.3.1-2) ...\n",
            "Setting up python3-keyring (10.6.0-1) ...\n",
            "Processing triggers for man-db (2.8.3-2ubuntu0.1) ...\n",
            "Reading package lists... Done\n",
            "Building dependency tree       \n",
            "Reading state information... Done\n",
            "0 upgraded, 0 newly installed, 0 to remove and 31 not upgraded.\n",
            "Collecting pip\n",
            "  Downloading https://files.pythonhosted.org/packages/fe/ef/60d7ba03b5c442309ef42e7d69959f73aacccd0d86008362a681c4698e83/pip-21.0.1-py3-none-any.whl (1.5MB)\n",
            "\u001b[K    100% |████████████████████████████████| 1.5MB 817kB/s \n",
            "\u001b[?25hInstalling collected packages: pip\n",
            "  Found existing installation: pip 9.0.1\n",
            "    Not uninstalling pip at /usr/lib/python3/dist-packages, outside environment /usr\n",
            "Successfully installed pip-21.0.1\n",
            "pip 21.0.1 from /usr/local/lib/python3.8/dist-packages/pip (python 3.8)\n"
          ],
          "name": "stdout"
        }
      ]
    },
    {
      "cell_type": "markdown",
      "metadata": {
        "id": "5ce-d2zaANIG"
      },
      "source": [
        "# Clone respository"
      ]
    },
    {
      "cell_type": "code",
      "metadata": {
        "colab": {
          "base_uri": "https://localhost:8080/"
        },
        "id": "LFqhOesqiIZC",
        "outputId": "a6d20e48-0e18-4953-bcaf-d1b114f6dd3a"
      },
      "source": [
        "! git clone --single-branch --branch google-colab https://github.com/coolhva/ecapi.git"
      ],
      "execution_count": 9,
      "outputs": [
        {
          "output_type": "stream",
          "text": [
            "Cloning into 'ecapi'...\n",
            "remote: Enumerating objects: 345, done.\u001b[K\n",
            "remote: Counting objects: 100% (345/345), done.\u001b[K\n",
            "remote: Compressing objects: 100% (236/236), done.\u001b[K\n",
            "remote: Total 345 (delta 195), reused 243 (delta 105), pack-reused 0\u001b[K\n",
            "Receiving objects: 100% (345/345), 377.38 KiB | 5.03 MiB/s, done.\n",
            "Resolving deltas: 100% (195/195), done.\n"
          ],
          "name": "stdout"
        }
      ]
    },
    {
      "cell_type": "code",
      "metadata": {
        "colab": {
          "base_uri": "https://localhost:8080/"
        },
        "id": "-h4Ub3ydjLli",
        "outputId": "5373725e-8f50-4a72-ebb2-f4a1343ca54f"
      },
      "source": [
        "%cd /content/ecapi"
      ],
      "execution_count": 4,
      "outputs": [
        {
          "output_type": "stream",
          "text": [
            "/content/ecapi\n"
          ],
          "name": "stdout"
        }
      ]
    },
    {
      "cell_type": "markdown",
      "metadata": {
        "id": "QDxfBzGmAktq"
      },
      "source": [
        "# Setup virtual environment and install requirements"
      ]
    },
    {
      "cell_type": "code",
      "metadata": {
        "id": "rkkcVvHh4Ibv"
      },
      "source": [
        "! python3 -m venv venv"
      ],
      "execution_count": 5,
      "outputs": []
    },
    {
      "cell_type": "code",
      "metadata": {
        "colab": {
          "base_uri": "https://localhost:8080/"
        },
        "id": "AtJ-4--QjIhC",
        "outputId": "27af54e0-621f-4b64-e684-703247a5f983"
      },
      "source": [
        "! source /content/ecapi/venv/bin/activate ; pip install -r requirements.txt"
      ],
      "execution_count": 6,
      "outputs": [
        {
          "output_type": "stream",
          "text": [
            "Collecting alembic==1.5.4 (from -r requirements.txt (line 1))\n",
            "  Downloading https://files.pythonhosted.org/packages/a9/53/daab5c96e22e9ed1c9f8ca4e3256e72213ade42d519b6254c32e59610967/alembic-1.5.4.tar.gz (1.1MB)\n",
            "\u001b[K    100% |████████████████████████████████| 1.1MB 1.1MB/s \n",
            "\u001b[?25hCollecting autopep8==1.5.5 (from -r requirements.txt (line 2))\n",
            "  Downloading https://files.pythonhosted.org/packages/58/e5/a06510cfa9caaaffebf74084f8886a93a96273dbf22a1c920ca1af00997a/autopep8-1.5.5-py2.py3-none-any.whl (44kB)\n",
            "\u001b[K    100% |████████████████████████████████| 51kB 10.7MB/s \n",
            "\u001b[?25hCollecting blinker==1.4 (from -r requirements.txt (line 3))\n",
            "  Downloading https://files.pythonhosted.org/packages/1b/51/e2a9f3b757eb802f61dc1f2b09c8c99f6eb01cf06416c0671253536517b6/blinker-1.4.tar.gz (111kB)\n",
            "\u001b[K    100% |████████████████████████████████| 112kB 7.4MB/s \n",
            "\u001b[?25hCollecting Bootstrap-Flask==1.5.1 (from -r requirements.txt (line 4))\n",
            "  Downloading https://files.pythonhosted.org/packages/12/9d/1d20f1a87725c031ae754dcacfe2a3a05aac39e918ab275bce5f436933d0/Bootstrap_Flask-1.5.1-py2.py3-none-any.whl (1.5MB)\n",
            "\u001b[K    100% |████████████████████████████████| 1.5MB 719kB/s \n",
            "\u001b[?25hCollecting certifi==2020.12.5 (from -r requirements.txt (line 5))\n",
            "  Downloading https://files.pythonhosted.org/packages/5e/a0/5f06e1e1d463903cf0c0eebeb751791119ed7a4b3737fdc9a77f1cdfb51f/certifi-2020.12.5-py2.py3-none-any.whl (147kB)\n",
            "\u001b[K    100% |████████████████████████████████| 153kB 6.6MB/s \n",
            "\u001b[?25hCollecting chardet==4.0.0 (from -r requirements.txt (line 6))\n",
            "  Downloading https://files.pythonhosted.org/packages/19/c7/fa589626997dd07bd87d9269342ccb74b1720384a4d739a1872bd84fbe68/chardet-4.0.0-py2.py3-none-any.whl (178kB)\n",
            "\u001b[K    100% |████████████████████████████████| 184kB 6.5MB/s \n",
            "\u001b[?25hCollecting click==7.1.2 (from -r requirements.txt (line 7))\n",
            "  Downloading https://files.pythonhosted.org/packages/d2/3d/fa76db83bf75c4f8d338c2fd15c8d33fdd7ad23a9b5e57eb6c5de26b430e/click-7.1.2-py2.py3-none-any.whl (82kB)\n",
            "\u001b[K    100% |████████████████████████████████| 92kB 9.5MB/s \n",
            "\u001b[?25hCollecting dnspython==2.1.0 (from -r requirements.txt (line 8))\n",
            "  Downloading https://files.pythonhosted.org/packages/f5/2d/ae9e172b4e5e72fa4b3cfc2517f38b602cc9ba31355f9669c502b4e9c458/dnspython-2.1.0-py3-none-any.whl (241kB)\n",
            "\u001b[K    100% |████████████████████████████████| 245kB 4.5MB/s \n",
            "\u001b[?25hCollecting dominate==2.6.0 (from -r requirements.txt (line 9))\n",
            "  Downloading https://files.pythonhosted.org/packages/ef/a8/4354f8122c39e35516a2708746d89db5e339c867abbd8e0179bccee4b7f9/dominate-2.6.0-py2.py3-none-any.whl\n",
            "Collecting email-validator==1.1.2 (from -r requirements.txt (line 10))\n",
            "  Downloading https://files.pythonhosted.org/packages/58/f0/39459bb868ddb4e96ee3f8b1386deeceb1bf4e53de8c18a4afdf5801f24c/email_validator-1.1.2-py2.py3-none-any.whl\n",
            "Collecting flake8==3.8.4 (from -r requirements.txt (line 11))\n",
            "  Downloading https://files.pythonhosted.org/packages/d4/ca/3971802ee6251da1abead1a22831d7f4743781e2f743bd266bdd2f46c19b/flake8-3.8.4-py2.py3-none-any.whl (72kB)\n",
            "\u001b[K    100% |████████████████████████████████| 81kB 10.7MB/s \n",
            "\u001b[?25hCollecting Flask==1.1.2 (from -r requirements.txt (line 12))\n",
            "  Downloading https://files.pythonhosted.org/packages/f2/28/2a03252dfb9ebf377f40fba6a7841b47083260bf8bd8e737b0c6952df83f/Flask-1.1.2-py2.py3-none-any.whl (94kB)\n",
            "\u001b[K    100% |████████████████████████████████| 102kB 9.8MB/s \n",
            "\u001b[?25hCollecting Flask-Login==0.5.0 (from -r requirements.txt (line 13))\n",
            "  Downloading https://files.pythonhosted.org/packages/2b/83/ac5bf3279f969704fc1e63f050c50e10985e50fd340e6069ec7e09df5442/Flask_Login-0.5.0-py2.py3-none-any.whl\n",
            "Collecting Flask-Mail==0.9.1 (from -r requirements.txt (line 14))\n",
            "  Downloading https://files.pythonhosted.org/packages/05/2f/6a545452040c2556559779db87148d2a85e78a26f90326647b51dc5e81e9/Flask-Mail-0.9.1.tar.gz (45kB)\n",
            "\u001b[K    100% |████████████████████████████████| 51kB 10.4MB/s \n",
            "\u001b[?25hCollecting Flask-Migrate==2.6.0 (from -r requirements.txt (line 15))\n",
            "  Downloading https://files.pythonhosted.org/packages/5b/c2/cb6a1c03c97ff1c8b90644c2abedd6f39fd484103caba5d50881e227cc82/Flask_Migrate-2.6.0-py2.py3-none-any.whl\n",
            "Collecting Flask-Moment==0.11.0 (from -r requirements.txt (line 16))\n",
            "  Downloading https://files.pythonhosted.org/packages/7f/28/09a06a1d1d592c66895723cad9b061d675d18c93ad24858e8203cc4750cb/Flask_Moment-0.11.0-py2.py3-none-any.whl\n",
            "Collecting flask-ngrok==0.0.25 (from -r requirements.txt (line 17))\n",
            "  Downloading https://files.pythonhosted.org/packages/af/6c/f54cb686ad1129e27d125d182f90f52b32f284e6c8df58c1bae54fa1adbc/flask_ngrok-0.0.25-py3-none-any.whl\n",
            "Collecting Flask-SQLAlchemy==2.4.4 (from -r requirements.txt (line 18))\n",
            "  Downloading https://files.pythonhosted.org/packages/af/4b/3dd83c3e2c6e3034b804d971952e0120606506f153990cc56d2d33173b72/Flask_SQLAlchemy-2.4.4-py2.py3-none-any.whl\n",
            "Collecting Flask-WTF==0.14.3 (from -r requirements.txt (line 19))\n",
            "  Downloading https://files.pythonhosted.org/packages/36/a9/8c01171066bd7a524ee005d81bb4a8aa446ab178043a1ad6cb5dc8f0bd83/Flask_WTF-0.14.3-py2.py3-none-any.whl\n",
            "Collecting idna==2.10 (from -r requirements.txt (line 20))\n",
            "  Downloading https://files.pythonhosted.org/packages/a2/38/928ddce2273eaa564f6f50de919327bf3a00f091b5baba8dfa9460f3a8a8/idna-2.10-py2.py3-none-any.whl (58kB)\n",
            "\u001b[K    100% |████████████████████████████████| 61kB 9.7MB/s \n",
            "\u001b[?25hCollecting importlib-metadata==3.4.0 (from -r requirements.txt (line 21))\n",
            "  Downloading https://files.pythonhosted.org/packages/f3/ed/da40116a204abb5c4dd1d929346d33e0d29cedb2cedd18ea98f0385dcd92/importlib_metadata-3.4.0-py3-none-any.whl\n",
            "Collecting itsdangerous==1.1.0 (from -r requirements.txt (line 22))\n",
            "  Downloading https://files.pythonhosted.org/packages/76/ae/44b03b253d6fade317f32c24d100b3b35c2239807046a4c953c7b89fa49e/itsdangerous-1.1.0-py2.py3-none-any.whl\n",
            "Collecting Jinja2==2.11.3 (from -r requirements.txt (line 23))\n",
            "  Downloading https://files.pythonhosted.org/packages/7e/c2/1eece8c95ddbc9b1aeb64f5783a9e07a286de42191b7204d67b7496ddf35/Jinja2-2.11.3-py2.py3-none-any.whl (125kB)\n",
            "\u001b[K    100% |████████████████████████████████| 133kB 8.1MB/s \n",
            "\u001b[?25hCollecting Mako==1.1.4 (from -r requirements.txt (line 24))\n",
            "  Downloading https://files.pythonhosted.org/packages/5c/db/2d2d88b924aa4674a080aae83b59ea19d593250bfe5ed789947c21736785/Mako-1.1.4.tar.gz (479kB)\n",
            "\u001b[K    100% |████████████████████████████████| 481kB 2.5MB/s \n",
            "\u001b[?25hCollecting MarkupSafe==1.1.1 (from -r requirements.txt (line 25))\n",
            "  Downloading https://files.pythonhosted.org/packages/4b/20/f6d7648c81cb84815d0be935d5c74cd1cc0239e43eadb1a61062d34b6543/MarkupSafe-1.1.1-cp38-cp38-manylinux1_x86_64.whl\n",
            "Collecting mccabe==0.6.1 (from -r requirements.txt (line 26))\n",
            "  Downloading https://files.pythonhosted.org/packages/87/89/479dc97e18549e21354893e4ee4ef36db1d237534982482c3681ee6e7b57/mccabe-0.6.1-py2.py3-none-any.whl\n",
            "Collecting pycodestyle==2.6.0 (from -r requirements.txt (line 27))\n",
            "  Downloading https://files.pythonhosted.org/packages/10/5b/88879fb861ab79aef45c7e199cae3ef7af487b5603dcb363517a50602dd7/pycodestyle-2.6.0-py2.py3-none-any.whl (41kB)\n",
            "\u001b[K    100% |████████████████████████████████| 51kB 10.7MB/s \n",
            "\u001b[?25hCollecting pyflakes==2.2.0 (from -r requirements.txt (line 28))\n",
            "  Downloading https://files.pythonhosted.org/packages/69/5b/fd01b0c696f2f9a6d2c839883b642493b431f28fa32b29abc465ef675473/pyflakes-2.2.0-py2.py3-none-any.whl (66kB)\n",
            "\u001b[K    100% |████████████████████████████████| 71kB 10.3MB/s \n",
            "\u001b[?25hCollecting PyJWT==2.0.1 (from -r requirements.txt (line 29))\n",
            "  Downloading https://files.pythonhosted.org/packages/b4/9b/8850f99027ed029af6828199cc87179eaccbbf1f9e6e373e7f0177d32dad/PyJWT-2.0.1-py3-none-any.whl\n",
            "Collecting python-dateutil==2.8.1 (from -r requirements.txt (line 30))\n",
            "  Downloading https://files.pythonhosted.org/packages/d4/70/d60450c3dd48ef87586924207ae8907090de0b306af2bce5d134d78615cb/python_dateutil-2.8.1-py2.py3-none-any.whl (227kB)\n",
            "\u001b[K    100% |████████████████████████████████| 235kB 4.9MB/s \n",
            "\u001b[?25hCollecting python-dotenv==0.15.0 (from -r requirements.txt (line 31))\n",
            "  Downloading https://files.pythonhosted.org/packages/32/2e/e4585559237787966aad0f8fd0fc31df1c4c9eb0e62de458c5b6cde954eb/python_dotenv-0.15.0-py2.py3-none-any.whl\n",
            "Collecting python-editor==1.0.4 (from -r requirements.txt (line 32))\n",
            "  Downloading https://files.pythonhosted.org/packages/c6/d3/201fc3abe391bbae6606e6f1d598c15d367033332bd54352b12f35513717/python_editor-1.0.4-py3-none-any.whl\n",
            "Collecting requests==2.25.1 (from -r requirements.txt (line 33))\n",
            "  Downloading https://files.pythonhosted.org/packages/29/c1/24814557f1d22c56d50280771a17307e6bf87b70727d975fd6b2ce6b014a/requests-2.25.1-py2.py3-none-any.whl (61kB)\n",
            "\u001b[K    100% |████████████████████████████████| 61kB 9.4MB/s \n",
            "\u001b[?25hCollecting six==1.15.0 (from -r requirements.txt (line 34))\n",
            "  Downloading https://files.pythonhosted.org/packages/ee/ff/48bde5c0f013094d729fe4b0316ba2a24774b3ff1c52d924a8a4cb04078a/six-1.15.0-py2.py3-none-any.whl\n",
            "Collecting SQLAlchemy==1.3.23 (from -r requirements.txt (line 35))\n",
            "  Downloading https://files.pythonhosted.org/packages/8e/86/e7b3b65013507c07bc019c9b6dc53165985fa3914bf823221a9b78d5dac1/SQLAlchemy-1.3.23-cp38-cp38-manylinux1_x86_64.whl (1.3MB)\n",
            "\u001b[K    100% |████████████████████████████████| 1.3MB 987kB/s \n",
            "\u001b[?25hCollecting toml==0.10.2 (from -r requirements.txt (line 36))\n",
            "  Downloading https://files.pythonhosted.org/packages/44/6f/7120676b6d73228c96e17f1f794d8ab046fc910d781c8d151120c3f1569e/toml-0.10.2-py2.py3-none-any.whl\n",
            "Collecting typing-extensions==3.7.4.3 (from -r requirements.txt (line 37))\n",
            "  Downloading https://files.pythonhosted.org/packages/60/7a/e881b5abb54db0e6e671ab088d079c57ce54e8a01a3ca443f561ccadb37e/typing_extensions-3.7.4.3-py3-none-any.whl\n",
            "Collecting urllib3==1.26.3 (from -r requirements.txt (line 38))\n",
            "  Downloading https://files.pythonhosted.org/packages/23/fc/8a49991f7905261f9ca9df5aa9b58363c3c821ce3e7f671895442b7100f2/urllib3-1.26.3-py2.py3-none-any.whl (137kB)\n",
            "\u001b[K    100% |████████████████████████████████| 143kB 8.1MB/s \n",
            "\u001b[?25hCollecting visitor==0.1.3 (from -r requirements.txt (line 39))\n",
            "  Downloading https://files.pythonhosted.org/packages/d7/58/785fcd6de4210049da5fafe62301b197f044f3835393594be368547142b0/visitor-0.1.3.tar.gz\n",
            "Collecting Werkzeug==1.0.1 (from -r requirements.txt (line 40))\n",
            "  Downloading https://files.pythonhosted.org/packages/cc/94/5f7079a0e00bd6863ef8f1da638721e9da21e5bacee597595b318f71d62e/Werkzeug-1.0.1-py2.py3-none-any.whl (298kB)\n",
            "\u001b[K    100% |████████████████████████████████| 307kB 3.9MB/s \n",
            "\u001b[?25hCollecting WTForms==2.3.3 (from -r requirements.txt (line 41))\n",
            "  Downloading https://files.pythonhosted.org/packages/e0/31/614fc7dc7d76005b0acb8c0c8920d962b83d7422b4ba912886dfb63f86ff/WTForms-2.3.3-py2.py3-none-any.whl (169kB)\n",
            "\u001b[K    100% |████████████████████████████████| 174kB 6.6MB/s \n",
            "\u001b[?25hCollecting zipp==3.4.0 (from -r requirements.txt (line 42))\n",
            "  Downloading https://files.pythonhosted.org/packages/41/ad/6a4f1a124b325618a7fb758b885b68ff7b058eec47d9220a12ab38d90b1f/zipp-3.4.0-py3-none-any.whl\n",
            "Building wheels for collected packages: alembic, blinker, Flask-Mail, Mako, visitor\n",
            "  Running setup.py bdist_wheel for alembic ... \u001b[?25lerror\n",
            "\u001b[31m  Failed building wheel for alembic\u001b[0m\n",
            "\u001b[?25h  Running setup.py clean for alembic\n",
            "  Running setup.py bdist_wheel for blinker ... \u001b[?25lerror\n",
            "\u001b[31m  Failed building wheel for blinker\u001b[0m\n",
            "\u001b[?25h  Running setup.py clean for blinker\n",
            "  Running setup.py bdist_wheel for Flask-Mail ... \u001b[?25lerror\n",
            "\u001b[31m  Failed building wheel for Flask-Mail\u001b[0m\n",
            "\u001b[?25h  Running setup.py clean for Flask-Mail\n",
            "  Running setup.py bdist_wheel for Mako ... \u001b[?25lerror\n",
            "\u001b[31m  Failed building wheel for Mako\u001b[0m\n",
            "\u001b[?25h  Running setup.py clean for Mako\n",
            "  Running setup.py bdist_wheel for visitor ... \u001b[?25lerror\n",
            "\u001b[31m  Failed building wheel for visitor\u001b[0m\n",
            "\u001b[?25h  Running setup.py clean for visitor\n",
            "Failed to build alembic blinker Flask-Mail Mako visitor\n",
            "Installing collected packages: MarkupSafe, Mako, SQLAlchemy, six, python-dateutil, python-editor, alembic, toml, pycodestyle, autopep8, blinker, click, Werkzeug, itsdangerous, Jinja2, Flask, Bootstrap-Flask, certifi, chardet, dnspython, dominate, idna, email-validator, mccabe, pyflakes, flake8, Flask-Login, Flask-Mail, Flask-SQLAlchemy, Flask-Migrate, Flask-Moment, urllib3, requests, flask-ngrok, WTForms, Flask-WTF, zipp, importlib-metadata, PyJWT, python-dotenv, typing-extensions, visitor\n",
            "  Running setup.py install for Mako ... \u001b[?25ldone\n",
            "\u001b[?25h  Running setup.py install for alembic ... \u001b[?25ldone\n",
            "\u001b[?25h  Running setup.py install for blinker ... \u001b[?25ldone\n",
            "\u001b[?25h  Running setup.py install for Flask-Mail ... \u001b[?25ldone\n",
            "\u001b[?25h  Running setup.py install for visitor ... \u001b[?25ldone\n",
            "\u001b[?25hSuccessfully installed Bootstrap-Flask-1.5.1 Flask-1.1.2 Flask-Login-0.5.0 Flask-Mail-0.9.1 Flask-Migrate-2.6.0 Flask-Moment-0.11.0 Flask-SQLAlchemy-2.4.4 Flask-WTF-0.14.3 Jinja2-2.11.3 Mako-1.1.4 MarkupSafe-1.1.1 PyJWT-2.0.1 SQLAlchemy-1.3.23 WTForms-2.3.3 Werkzeug-1.0.1 alembic-1.5.4 autopep8-1.5.5 blinker-1.4 certifi-2020.12.5 chardet-4.0.0 click-7.1.2 dnspython-2.1.0 dominate-2.6.0 email-validator-1.1.2 flake8-3.8.4 flask-ngrok-0.0.25 idna-2.10 importlib-metadata-3.4.0 itsdangerous-1.1.0 mccabe-0.6.1 pycodestyle-2.6.0 pyflakes-2.2.0 python-dateutil-2.8.1 python-dotenv-0.15.0 python-editor-1.0.4 requests-2.25.1 six-1.15.0 toml-0.10.2 typing-extensions-3.7.4.3 urllib3-1.26.3 visitor-0.1.3 zipp-3.4.0\n"
          ],
          "name": "stdout"
        }
      ]
    },
    {
      "cell_type": "code",
      "metadata": {
        "id": "GqvG9HOZAuOl"
      },
      "source": [
        ""
      ],
      "execution_count": 6,
      "outputs": []
    },
    {
      "cell_type": "markdown",
      "metadata": {
        "id": "kII54cwOArZX"
      },
      "source": [
        "# Database initialization"
      ]
    },
    {
      "cell_type": "code",
      "metadata": {
        "colab": {
          "base_uri": "https://localhost:8080/"
        },
        "id": "t2HYXf3Cj0yt",
        "outputId": "b996d0f7-176f-4e3a-fcd9-1c24b467bdc2"
      },
      "source": [
        "! export FLASK_APP=ecapi.py\n",
        "! mkdir db\n",
        "! source /content/ecapi/venv/bin/activate ; flask db upgrade"
      ],
      "execution_count": 7,
      "outputs": [
        {
          "output_type": "stream",
          "text": [
            "[2021-02-22 23:13:32,241] INFO in __init__: Ecapi startup\n",
            "INFO  [alembic.runtime.migration] Context impl SQLiteImpl.\n",
            "INFO  [alembic.runtime.migration] Will assume non-transactional DDL.\n",
            "INFO  [alembic.runtime.migration] Running upgrade  -> 2fa87cd7fab5, add user table\n",
            "INFO  [alembic.runtime.migration] Running upgrade 2fa87cd7fab5 -> 7cc33466a85a, add domains table\n"
          ],
          "name": "stdout"
        }
      ]
    },
    {
      "cell_type": "markdown",
      "metadata": {
        "id": "Ds-vqKMqA0ja"
      },
      "source": [
        "# Run Flask through ngrok"
      ]
    },
    {
      "cell_type": "code",
      "metadata": {
        "colab": {
          "base_uri": "https://localhost:8080/"
        },
        "id": "eYNsUOUu83mI",
        "outputId": "db059e30-d6dd-45c8-8759-e1e118d25300"
      },
      "source": [
        "#@title\n",
        "! source /content/ecapi/venv/bin/activate ; python3 ecapi.py"
      ],
      "execution_count": 8,
      "outputs": [
        {
          "output_type": "stream",
          "text": [
            "[2021-02-22 23:13:33,145] INFO in __init__: Ecapi startup\n",
            " * Serving Flask app \"app\" (lazy loading)\n",
            " * Environment: production\n",
            "\u001b[31m   WARNING: This is a development server. Do not use it in a production deployment.\u001b[0m\n",
            "\u001b[2m   Use a production WSGI server instead.\u001b[0m\n",
            " * Debug mode: off\n",
            " * Running on http://127.0.0.1:5000/ (Press CTRL+C to quit)\n",
            " * Running on http://83b406de2372.ngrok.io\n",
            " * Traffic stats available on http://127.0.0.1:4040\n",
            "127.0.0.1 - - [22/Feb/2021 23:14:46] \"\u001b[37mGET / HTTP/1.1\u001b[0m\" 200 -\n",
            "127.0.0.1 - - [22/Feb/2021 23:14:46] \"\u001b[37mGET /static/bootstrap.min.css HTTP/1.1\u001b[0m\" 200 -\n",
            "127.0.0.1 - - [22/Feb/2021 23:14:47] \"\u001b[37mGET /favicon.ico HTTP/1.1\u001b[0m\" 200 -\n"
          ],
          "name": "stdout"
        }
      ]
    }
  ]
}